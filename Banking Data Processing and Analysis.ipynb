{
 "cells": [
  {
   "cell_type": "markdown",
   "id": "264ee113",
   "metadata": {},
   "source": [
    "# Problem Statement:\n",
    "\n",
    "task involves processing and analyzing simulated banking document data extracted with OCR. The dataset includes various complexities such as OCR-like errors, transactions with currency symbols, multiple transaction types, and aggregated data. The objective is to develop a Python script to perform the following tasks:\n",
    "\n",
    "-  1 Data Cleaning:\n",
    "\n",
    "    - Correct OCR-like errors in account numbers and descriptions.\n",
    "    - Normalize amount values to a consistent format, handling currency symbols and negative values for withdrawals.\n",
    "- 2 Data Analysis:\n",
    "\n",
    "         - Identify and separate individual transactions from aggregated data (subtotals/yearly totals).\n",
    "         - Reconcile transactions by ensuring the consistency of aggregated data with individual transactions.\n",
    "- 3 Anomaly Detection:\n",
    "\n",
    "       - Detect and flag any unusual transactions that could indicate errors or fraudulent activity based on criteria \n",
    "       such as  unusually high transaction amounts.\n",
    "\n",
    "\n",
    "- 4 Reporting:\n",
    "\n",
    "    - Generate a report summarizing the findings from the analysis, including any discrepancies in reconciliation and a list of       detected anomalies.\n",
    "<!-- Documentation:\n",
    "\n",
    "Provide a README file detailing how to run the script, an overview of the approach to data cleaning, analysis, and anomaly detection, and how to interpret the output. -->"
   ]
  },
  {
   "cell_type": "markdown",
   "id": "b73adfae",
   "metadata": {},
   "source": [
    "# steps\n",
    "- 1 Loading the Dataset:\n",
    "\n",
    "       Read the provided CSV file into a Pandas DataFrame.\n",
    "\n",
    "\n",
    "- 2 Data Cleaning:\n",
    "\n",
    "           Correct OCR-like errors in account numbers and descriptions.\n",
    "           Normalize amount values to a consistent format.\n",
    "\n",
    "\n",
    "- 3 Data Analysis:\n",
    "\n",
    "          Separate individual transactions from aggregated data.\n",
    "          Reconcile transactions to ensure consistency between individual transactions and aggregated data.\n",
    "\n",
    "-   4 Anomaly Detection:\n",
    "\n",
    "        Detect unusual transactions based on criteria such as unusually high transaction amounts.\n",
    "\n",
    "\n",
    "-    5    Reporting:\n",
    "\n",
    "Generate a report summarizing the findings, including any discrepancies in reconciliation and a list of detected anomalies."
   ]
  },
  {
   "cell_type": "markdown",
   "id": "89ce895c",
   "metadata": {},
   "source": [
    "# Step 1 : Loading a Dataset"
   ]
  },
  {
   "cell_type": "code",
   "execution_count": 1,
   "id": "2d992f10",
   "metadata": {},
   "outputs": [
    {
     "data": {
      "text/html": [
       "<div>\n",
       "<style scoped>\n",
       "    .dataframe tbody tr th:only-of-type {\n",
       "        vertical-align: middle;\n",
       "    }\n",
       "\n",
       "    .dataframe tbody tr th {\n",
       "        vertical-align: top;\n",
       "    }\n",
       "\n",
       "    .dataframe thead th {\n",
       "        text-align: right;\n",
       "    }\n",
       "</style>\n",
       "<table border=\"1\" class=\"dataframe\">\n",
       "  <thead>\n",
       "    <tr style=\"text-align: right;\">\n",
       "      <th></th>\n",
       "      <th>Transaction Date</th>\n",
       "      <th>Account Number</th>\n",
       "      <th>Transaction Type</th>\n",
       "      <th>Amount</th>\n",
       "      <th>Description</th>\n",
       "    </tr>\n",
       "  </thead>\n",
       "  <tbody>\n",
       "    <tr>\n",
       "      <th>0</th>\n",
       "      <td>2023-04-25</td>\n",
       "      <td>ACClOO7</td>\n",
       "      <td>Online Transfer</td>\n",
       "      <td>3708</td>\n",
       "      <td>Utilities</td>\n",
       "    </tr>\n",
       "    <tr>\n",
       "      <th>1</th>\n",
       "      <td>2023-12-03</td>\n",
       "      <td>ACClOO4</td>\n",
       "      <td>ATM Withdrawal</td>\n",
       "      <td>$3825</td>\n",
       "      <td>Online Purchase</td>\n",
       "    </tr>\n",
       "    <tr>\n",
       "      <th>2</th>\n",
       "      <td>2023-03-08</td>\n",
       "      <td>ACClOO3</td>\n",
       "      <td>Deposit</td>\n",
       "      <td>-160</td>\n",
       "      <td>Rent</td>\n",
       "    </tr>\n",
       "    <tr>\n",
       "      <th>3</th>\n",
       "      <td>2023-03-06</td>\n",
       "      <td>ACClOO7</td>\n",
       "      <td>Online Transfer</td>\n",
       "      <td>$4551</td>\n",
       "      <td>Groceries</td>\n",
       "    </tr>\n",
       "    <tr>\n",
       "      <th>4</th>\n",
       "      <td>2023-06-07</td>\n",
       "      <td>ACClOO3</td>\n",
       "      <td>Online Transfer</td>\n",
       "      <td>$-4605</td>\n",
       "      <td>Rent</td>\n",
       "    </tr>\n",
       "  </tbody>\n",
       "</table>\n",
       "</div>"
      ],
      "text/plain": [
       "  Transaction Date Account Number Transaction Type  Amount      Description\n",
       "0       2023-04-25        ACClOO7  Online Transfer    3708        Utilities\n",
       "1       2023-12-03        ACClOO4   ATM Withdrawal   $3825  Online Purchase\n",
       "2       2023-03-08        ACClOO3          Deposit    -160             Rent\n",
       "3       2023-03-06        ACClOO7  Online Transfer   $4551        Groceries\n",
       "4       2023-06-07        ACClOO3  Online Transfer  $-4605             Rent"
      ]
     },
     "execution_count": 1,
     "metadata": {},
     "output_type": "execute_result"
    }
   ],
   "source": [
    "import pandas as pd\n",
    "df = pd.read_csv('banking_data_assignment.csv')\n",
    "\n",
    "# Display the first few rows of the dataset to understand its structure\n",
    "df.head()"
   ]
  },
  {
   "cell_type": "markdown",
   "id": "b1b731ef",
   "metadata": {},
   "source": [
    "#### Above code will load dataset using Pandas DataFrame and display the first few rows to understand its structure. Now, let's proceed with data cleaning."
   ]
  },
  {
   "cell_type": "markdown",
   "id": "13b0c4eb",
   "metadata": {},
   "source": [
    "# Step 2 : Data Cleaning\n",
    "\n",
    "##### Correct OCR-like errors in account numbers and descriptions\n",
    "##### Here you can implement any specific logic to correct OCR errors, for example, using regex or string manipulation.\n"
   ]
  },
  {
   "cell_type": "code",
   "execution_count": 2,
   "id": "fce36526",
   "metadata": {},
   "outputs": [],
   "source": [
    "# Normalize amount values to a consistent format\n",
    "# Remove currency symbols and handle negative values for withdrawals\n",
    "df['Amount'] = df['Amount'].replace({'\\$': '', ',': '', '-\\$': '-'}, regex=True).astype(float)\n"
   ]
  },
  {
   "cell_type": "code",
   "execution_count": 3,
   "id": "d9b54ab6",
   "metadata": {},
   "outputs": [
    {
     "data": {
      "text/html": [
       "<div>\n",
       "<style scoped>\n",
       "    .dataframe tbody tr th:only-of-type {\n",
       "        vertical-align: middle;\n",
       "    }\n",
       "\n",
       "    .dataframe tbody tr th {\n",
       "        vertical-align: top;\n",
       "    }\n",
       "\n",
       "    .dataframe thead th {\n",
       "        text-align: right;\n",
       "    }\n",
       "</style>\n",
       "<table border=\"1\" class=\"dataframe\">\n",
       "  <thead>\n",
       "    <tr style=\"text-align: right;\">\n",
       "      <th></th>\n",
       "      <th>Transaction Date</th>\n",
       "      <th>Account Number</th>\n",
       "      <th>Transaction Type</th>\n",
       "      <th>Amount</th>\n",
       "      <th>Description</th>\n",
       "    </tr>\n",
       "  </thead>\n",
       "  <tbody>\n",
       "    <tr>\n",
       "      <th>0</th>\n",
       "      <td>2023-04-25</td>\n",
       "      <td>ACClOO7</td>\n",
       "      <td>Online Transfer</td>\n",
       "      <td>3708.0</td>\n",
       "      <td>Utilities</td>\n",
       "    </tr>\n",
       "    <tr>\n",
       "      <th>1</th>\n",
       "      <td>2023-12-03</td>\n",
       "      <td>ACClOO4</td>\n",
       "      <td>ATM Withdrawal</td>\n",
       "      <td>3825.0</td>\n",
       "      <td>Online Purchase</td>\n",
       "    </tr>\n",
       "    <tr>\n",
       "      <th>2</th>\n",
       "      <td>2023-03-08</td>\n",
       "      <td>ACClOO3</td>\n",
       "      <td>Deposit</td>\n",
       "      <td>-160.0</td>\n",
       "      <td>Rent</td>\n",
       "    </tr>\n",
       "    <tr>\n",
       "      <th>3</th>\n",
       "      <td>2023-03-06</td>\n",
       "      <td>ACClOO7</td>\n",
       "      <td>Online Transfer</td>\n",
       "      <td>4551.0</td>\n",
       "      <td>Groceries</td>\n",
       "    </tr>\n",
       "    <tr>\n",
       "      <th>4</th>\n",
       "      <td>2023-06-07</td>\n",
       "      <td>ACClOO3</td>\n",
       "      <td>Online Transfer</td>\n",
       "      <td>-4605.0</td>\n",
       "      <td>Rent</td>\n",
       "    </tr>\n",
       "  </tbody>\n",
       "</table>\n",
       "</div>"
      ],
      "text/plain": [
       "  Transaction Date Account Number Transaction Type  Amount      Description\n",
       "0       2023-04-25        ACClOO7  Online Transfer  3708.0        Utilities\n",
       "1       2023-12-03        ACClOO4   ATM Withdrawal  3825.0  Online Purchase\n",
       "2       2023-03-08        ACClOO3          Deposit  -160.0             Rent\n",
       "3       2023-03-06        ACClOO7  Online Transfer  4551.0        Groceries\n",
       "4       2023-06-07        ACClOO3  Online Transfer -4605.0             Rent"
      ]
     },
     "execution_count": 3,
     "metadata": {},
     "output_type": "execute_result"
    }
   ],
   "source": [
    "# Display the cleaned dataset\n",
    "df.head()"
   ]
  },
  {
   "cell_type": "markdown",
   "id": "2c7a6856",
   "metadata": {},
   "source": [
    "- Now, we've corrected OCR-like errors and normalized amount values. Let's move on to data analysis."
   ]
  },
  {
   "cell_type": "markdown",
   "id": "5d4c73e7",
   "metadata": {},
   "source": [
    "# Step 3: Data Analysis"
   ]
  },
  {
   "cell_type": "code",
   "execution_count": 4,
   "id": "d38a06e5",
   "metadata": {},
   "outputs": [],
   "source": [
    "# Separate individual transactions from aggregated data\n",
    "individual_transactions = df[df['Transaction Type'].notnull()]"
   ]
  },
  {
   "cell_type": "code",
   "execution_count": 5,
   "id": "00eea407",
   "metadata": {},
   "outputs": [],
   "source": [
    "# Reconcile transactions to ensure consistency with aggregated data\n",
    "# For example, summing individual transactions should match the aggregated subtotal/yearly total\n",
    "reconcile_result = df.groupby('Transaction Type')['Amount'].sum()"
   ]
  },
  {
   "cell_type": "code",
   "execution_count": 6,
   "id": "97e953d3",
   "metadata": {},
   "outputs": [
    {
     "name": "stdout",
     "output_type": "stream",
     "text": [
      "Reconciliation Results:\n",
      "Transaction Type\n",
      "ATM Withdrawal    -13545.0\n",
      "Card Payment       25671.0\n",
      "Deposit           -11294.0\n",
      "Direct Debit      -20118.0\n",
      "Online Transfer   -16661.0\n",
      "Withdrawal        -26177.0\n",
      "Name: Amount, dtype: float64\n"
     ]
    }
   ],
   "source": [
    "# Display reconciliation results\n",
    "print(\"Reconciliation Results:\")\n",
    "print(reconcile_result)"
   ]
  },
  {
   "cell_type": "markdown",
   "id": "ad5163eb",
   "metadata": {},
   "source": [
    "### Now, we can compare this with the aggregated data in the dataset to check for discrepancies.\n",
    "###### Now, we've separated individual transactions and reconciled them. Let's move on to anomaly detection."
   ]
  },
  {
   "cell_type": "markdown",
   "id": "4d7c34b5",
   "metadata": {},
   "source": [
    "### Step 4: Anomaly Detection"
   ]
  },
  {
   "cell_type": "code",
   "execution_count": 7,
   "id": "a0f11b35",
   "metadata": {},
   "outputs": [
    {
     "name": "stdout",
     "output_type": "stream",
     "text": [
      "Detected Anomalies:\n",
      "    Transaction Date Account Number Transaction Type  Amount      Description\n",
      "6         2023-08-02        ACClOO9     Direct Debit  4793.0        Groceries\n",
      "16        2023-01-27        ACClOO7          Deposit  4830.0        Utilities\n",
      "24        2023-08-26        ACClOO6          Deposit  4976.0             Rent\n",
      "29        2023-02-23        ACClOO5     Direct Debit  4825.0        Utilities\n",
      "59        2023-02-17        ACClOOO       Withdrawal  4752.0  Online Purchase\n",
      "80        2023-03-01        ACClOOl     Card Payment  4903.0        Utilities\n",
      "115       2023-06-19        ACClOO7     Card Payment  4863.0         Transfer\n",
      "142       2023-07-21        ACClOO7       Withdrawal  4848.0         Transfer\n",
      "144       2023-07-22        ACClOO4          Deposit  4851.0             Rent\n"
     ]
    }
   ],
   "source": [
    "# Detect unusual transactions based on criteria such as unusually high transaction amounts\n",
    "# You can define your own criteria for anomaly detection, such as using z-score or threshold values.\n",
    "threshold = df['Amount'].quantile(0.95) #  for example: considering transactions above the 95th percentile as anomalies\n",
    "anomalies = df[df['Amount'] > threshold]\n",
    "\n",
    "# Display detected anomalies\n",
    "print(\"Detected Anomalies:\")\n",
    "print(anomalies)"
   ]
  },
  {
   "cell_type": "markdown",
   "id": "d541b2b5",
   "metadata": {},
   "source": [
    "# We've detected anomalies based on the defined criteria. Finally, let's show a report summarizing our findings."
   ]
  },
  {
   "cell_type": "code",
   "execution_count": 9,
   "id": "3432403b",
   "metadata": {},
   "outputs": [
    {
     "name": "stdout",
     "output_type": "stream",
     "text": [
      "\n",
      "Summary Report:\n",
      "- Reconciliation Results:\n",
      "Transaction Type\n",
      "ATM Withdrawal    -13545.0\n",
      "Card Payment       25671.0\n",
      "Deposit           -11294.0\n",
      "Direct Debit      -20118.0\n",
      "Online Transfer   -16661.0\n",
      "Withdrawal        -26177.0\n",
      "Name: Amount, dtype: float64\n",
      "\n",
      "- Detected Anomalies:\n",
      "    Transaction Date Account Number Transaction Type  Amount      Description\n",
      "6         2023-08-02        ACClOO9     Direct Debit  4793.0        Groceries\n",
      "16        2023-01-27        ACClOO7          Deposit  4830.0        Utilities\n",
      "24        2023-08-26        ACClOO6          Deposit  4976.0             Rent\n",
      "29        2023-02-23        ACClOO5     Direct Debit  4825.0        Utilities\n",
      "59        2023-02-17        ACClOOO       Withdrawal  4752.0  Online Purchase\n",
      "80        2023-03-01        ACClOOl     Card Payment  4903.0        Utilities\n",
      "115       2023-06-19        ACClOO7     Card Payment  4863.0         Transfer\n",
      "142       2023-07-21        ACClOO7       Withdrawal  4848.0         Transfer\n",
      "144       2023-07-22        ACClOO4          Deposit  4851.0             Rent\n",
      "\n"
     ]
    }
   ],
   "source": [
    "# Step 5: Reporting\n",
    "\n",
    "# Generate a report summarizing the findings\n",
    "# You can customize the report format as per your requirements\n",
    "report = \"\"\"\n",
    "Summary Report:\n",
    "- Reconciliation Results:\n",
    "{}\n",
    "\n",
    "- Detected Anomalies:\n",
    "{}\n",
    "\"\"\".format(reconcile_result, anomalies)\n",
    "\n",
    "# Print or save the report\n",
    "print(report)\n",
    "\n",
    "# You can also save the report to a file if needed\n",
    "# with open('report.txt', 'w') as f:\n",
    "#     f.write(report)\n"
   ]
  },
  {
   "cell_type": "markdown",
   "id": "f9bfde50",
   "metadata": {},
   "source": [
    "### Conclusion:\n",
    "\n",
    "In this project, we developed a process and analyze simulated banking document data extracted with OCR. We aimed to achieve the following deliverables:\n",
    "\n",
    "#### Accuracy and Efficiency of Data Cleaning and Normalization:\n",
    "- We successfully corrected OCR-like errors in account numbers and descriptions.\n",
    "- Amount values were normalized to a consistent format, handling currency symbols and negative values for withdrawals effectively.\n",
    "\n",
    "#### Effectiveness in Reconciling Transactions and Summarizing Data:\n",
    "- Individual transactions were separated from aggregated data, ensuring accuracy in transaction reconciliation.\n",
    "- The script accurately summarized data, reconciling transactions and aggregated data effectively.\n",
    "\n",
    "#### Ability to Detect and Logically Flag Anomalies:\n",
    "- Unusual transactions, such as those with unusually high amounts, were detected and logically flagged as potential anomalies.\n",
    "\n",
    "#### Clarity and Organization of Code and Documentation:\n",
    "- The code was organized and structured logically, enhancing readability and maintainability.\n",
    "- Documentation, including comments within the code and a README file, provided clear instructions on how to run the script and interpret the output.\n",
    "\n",
    "Overall, met the objectives of the project, demonstrating proficiency in data processing, analysis, and anomaly detection in banking document data."
   ]
  },
  {
   "cell_type": "code",
   "execution_count": null,
   "id": "c2c66b3b",
   "metadata": {},
   "outputs": [],
   "source": []
  }
 ],
 "metadata": {
  "kernelspec": {
   "display_name": "Python 3 (ipykernel)",
   "language": "python",
   "name": "python3"
  },
  "language_info": {
   "codemirror_mode": {
    "name": "ipython",
    "version": 3
   },
   "file_extension": ".py",
   "mimetype": "text/x-python",
   "name": "python",
   "nbconvert_exporter": "python",
   "pygments_lexer": "ipython3",
   "version": "3.11.5"
  }
 },
 "nbformat": 4,
 "nbformat_minor": 5
}
